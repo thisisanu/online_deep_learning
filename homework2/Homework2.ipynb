{
  "cells": [
    {
      "cell_type": "markdown",
      "metadata": {
        "id": "6zWseivb1lli"
      },
      "source": [
        "## General Colab Tips\n",
        "- Modify files by opening/editing them in the UI (double-click to open).\n",
        "- `Right click > Refresh` in the Colab file explorer to update the directory.\n",
        "- All files are lost when the Colab session disconnects, so make sure back up your work.\n",
        "- Do **not** use `drive.mount` for your datasets! Reading from GDrive is super slow.\n",
        "- Instead, place datasets into the `/content/` folder and modify your data accordingly.\n",
        "\n",
        "**Make a copy of this notebook and modify this to whatever workflow you prefer!**\n",
        "\n",
        "If you have some additional colab tips, please share them on the discussion forum.\n",
        "\n",
        "## Setup\n",
        "\n",
        "First, enable a GPU runtime via `Runtime > Change runtime type > T4 GPU`\n",
        "\n",
        "Next, upload the your project files to the Colab. You can do this by either\n",
        "- using Github (**recommended**)\n",
        "- uploading files manually using the UI\n",
        "\n",
        "## Github Setup\n",
        "\n",
        "You can use git from within Google Colab!\n",
        "\n",
        "For this section, we assume you know how to use git and have already pushed the starter code to a private repo.\n",
        "\n",
        "It's a good idea to structure your repo something like\n",
        "```\n",
        "online_deep_learning/\n",
        "    homework1/\n",
        "    homework2/\n",
        "    ...\n",
        "```\n",
        "\n",
        "We highly recommend using this workflow as you'll be able to easily pull/commit your changes after modifying your model on Colab.\n",
        "\n",
        "To do this, you'll need a personal access token from [https://github.com/settings/tokens](https://github.com/settings/tokens)\n",
        "\n",
        "The easiest thing to do is select \"classic\" token and make sure you have the `repo` scope selected to allow access to your private repos.\n",
        "There's also fine-grained tokens where you can select access to specific repos.\n",
        "\n",
        "Once you have your token, fill in your information and then run the following cell to clone your git repo to the Colab instance."
      ]
    },
    {
      "cell_type": "markdown",
      "metadata": {
        "id": "jcdO9DYgUD_I"
      },
      "source": [
        "## Code Setup\n",
        "\n",
        "Next let's move into `homework2/` so we can continue setting up the data / code for training.\n",
        "\n",
        "This will be the main working directory and the training/grading must be run from this directory.\n"
      ]
    },
    {
      "cell_type": "code",
      "execution_count": 2,
      "metadata": {
        "colab": {
          "base_uri": "https://localhost:8080/"
        },
        "id": "_EN547ZwV5bK",
        "outputId": "0f836e30-09a3-4cdb-8c86-7c8de05b3161"
      },
      "outputs": [
        {
          "output_type": "stream",
          "name": "stdout",
          "text": [
            "Enter your GitHub username: thisisanu\n",
            "Enter your GitHub personal access token: ··········\n",
            "Enter your GitHub repo URL (e.g. https://github.com/username/repo.git): https://github.com/thisisanu/online_deep_learning\n",
            "Cloning into 'online_deep_learning'...\n",
            "remote: Enumerating objects: 72, done.\u001b[K\n",
            "remote: Counting objects: 100% (72/72), done.\u001b[K\n",
            "remote: Compressing objects: 100% (55/55), done.\u001b[K\n",
            "remote: Total 72 (delta 20), reused 61 (delta 14), pack-reused 0 (from 0)\u001b[K\n",
            "Receiving objects: 100% (72/72), 2.86 MiB | 7.80 MiB/s, done.\n",
            "Resolving deltas: 100% (20/20), done.\n",
            "\u001b[0m\u001b[01;34monline_deep_learning\u001b[0m/  \u001b[01;34msample_data\u001b[0m/\n"
          ]
        }
      ],
      "source": [
        "# @title Clone your GitHub repo to Colab\n",
        "from getpass import getpass\n",
        "\n",
        "# Ask for GitHub credentials\n",
        "username = input(\"Enter your GitHub username: \")\n",
        "token = getpass(\"Enter your GitHub personal access token: \")\n",
        "repo_url = input(\"Enter your GitHub repo URL (e.g. https://github.com/username/repo.git): \")\n",
        "\n",
        "# Format the authenticated URL\n",
        "https_url = repo_url.replace(\"https://\", f\"https://{username}:{token}@\")\n",
        "\n",
        "# Clone the repo\n",
        "!git clone {https_url}\n",
        "\n",
        "\n",
        "%ls\n",
        "\n",
        "# if you don't have a copy of homework2 yet in your git repo\n",
        "# you can uncomment the lines below to get a copy\n",
        "#!curl -O https://www.cs.utexas.edu/~bzhou/dl_class/homework2.zip\n",
        "#!unzip -o homework2.zip\n",
        "#!rm homework2.zip"
      ]
    },
    {
      "cell_type": "markdown",
      "metadata": {
        "id": "xe1gdxvgV8C0"
      },
      "source": [
        "## Dataset Setup\n",
        "\n",
        "Now that your code is all ready, the next step is to download the datasets.\n",
        "\n",
        "Note: it's good practice to add data directories like `*/classification_data` to your `.gitignore` so you don't accidently commit them to your repo.\n",
        "\n",
        "Since the datasets used in this class are relatively small, we can simply re-download them if the compute instance crashes/restarts."
      ]
    },
    {
      "cell_type": "code",
      "execution_count": 4,
      "metadata": {
        "colab": {
          "base_uri": "https://localhost:8080/"
        },
        "id": "aEChL6ufHeeE",
        "outputId": "1a66e4c9-6288-4adb-bbc1-c1cc16d19ec0"
      },
      "outputs": [
        {
          "output_type": "stream",
          "name": "stdout",
          "text": [
            "classification_data  online_deep_learning  sample_data\n",
            "  % Total    % Received % Xferd  Average Speed   Time    Time     Time  Current\n",
            "                                 Dload  Upload   Total   Spent    Left  Speed\n",
            "100 46.7M  100 46.7M    0     0  20.1M      0  0:00:02  0:00:02 --:--:-- 20.1M\n",
            "train  val\n",
            "classification_data  online_deep_learning  sample_data\n"
          ]
        }
      ],
      "source": [
        "!cd online_deep_learning/homework2/\n",
        "\n",
        "!dir\n",
        "\n",
        "\n",
        "!curl -O https://www.cs.utexas.edu/~bzhou/dl_class/classification_data.zip\n",
        "!unzip -qo classification_data.zip > /dev/null\n",
        "!rm classification_data.zip\n",
        "\n",
        "# refreshes python imports automatically when you edit the source file\n",
        "#%load_ext autoreload\n",
        "#%autoreload 2\n",
        "# List contents of classification_data folder\n",
        "!dir classification_data/\n",
        "\n",
        "\n",
        "# List files in current directory\n",
        "!dir"
      ]
    },
    {
      "cell_type": "markdown",
      "metadata": {
        "id": "p2O00L7rXA1L"
      },
      "source": [
        "## Setup Verification\n",
        "\n",
        "Now you should be all set up, check out the `README.md` for additional instructions.\n",
        "\n",
        "Run this cell to verify your working directory is setup correctly.\n",
        "\n",
        "Your workspace should be organized as follows:\n",
        "\n",
        "```\n",
        "online_deep_learning/\n",
        "├── homework1/\n",
        "└── homework2/              <- you should be here\n",
        "    ├── bundle.py\n",
        "    ├── classification_data/\n",
        "    ├── grader/\n",
        "    ├── homework/\n",
        "    ├── README.md\n",
        "    └── requirements.txt\n",
        "```"
      ]
    },
    {
      "cell_type": "code",
      "execution_count": null,
      "metadata": {
        "colab": {
          "base_uri": "https://localhost:8080/"
        },
        "id": "ZcfCueToZhVZ",
        "outputId": "7a6ee057-3327-4905-c5f5-8dd68f1ac712"
      },
      "outputs": [
        {
          "name": "stdout",
          "output_type": "stream",
          "text": [
            " Volume in drive C has no label.\n",
            " Volume Serial Number is 4479-4559\n",
            "\n",
            " Directory of c:\\Users\\USER\\git\\online_deep_learning\\homework2\n",
            "\n",
            "10/20/2025  01:32 AM    <DIR>          .\n",
            "10/20/2025  01:32 AM    <DIR>          ..\n",
            "10/20/2025  01:32 AM    <DIR>          -p\n",
            "10/19/2025  10:35 PM    <DIR>          .venv\n",
            "08/02/2024  07:26 PM             1,280 bundle.py\n",
            "10/20/2025  12:03 AM    <DIR>          classification_data\n",
            "10/19/2025  11:42 PM        48,983,828 classification_data.zip\n",
            "10/20/2025  01:24 AM               219 conda\n",
            "10/20/2025  12:02 AM               294 gitignore\n",
            "10/19/2025  11:13 PM    <DIR>          grader\n",
            "10/19/2025  09:16 PM    <DIR>          homework\n",
            "10/19/2025  11:09 PM         8,625,312 Homework2.ipynb\n",
            "10/19/2025  09:17 PM    <DIR>          logs\n",
            "02/03/2025  07:36 PM             9,620 README.md\n",
            "10/20/2025  01:19 AM               418 requirements.txt\n",
            "06/20/2024  01:16 PM           179,181 viz.png\n",
            "               8 File(s)     57,800,152 bytes\n",
            "               8 Dir(s)  93,200,850,944 bytes free\n"
          ]
        }
      ],
      "source": [
        "!dir"
      ]
    },
    {
      "cell_type": "markdown",
      "metadata": {
        "id": "zpzS2ftmb7ZD"
      },
      "source": [
        "## Additional Helper Cells\n",
        "\n",
        "Now you're on your own! The rest of the provided cells are small helper routines.\n",
        "\n",
        "If you have any additional helpful colab tips/tricks please share them on the discussion forum."
      ]
    },
    {
      "cell_type": "markdown",
      "metadata": {
        "id": "glE1RHxE30_u"
      },
      "source": [
        "## Tensorboard (Optional)\n",
        "\n",
        "You can monitor training using the following command.\n",
        "\n",
        "Make sure that your training code writes to the corresponding directory."
      ]
    },
    {
      "cell_type": "code",
      "execution_count": null,
      "metadata": {
        "colab": {
          "base_uri": "https://localhost:8080/"
        },
        "id": "wRWuQIERv6hz",
        "outputId": "e55a3d8e-e4a7-45f2-c4fb-b013fb1439c2"
      },
      "outputs": [
        {
          "metadata": {
            "tags": null
          },
          "name": "stdout",
          "output_type": "stream",
          "text": [
            "2025-10-22 04:50:08.191369: E external/local_xla/xla/stream_executor/cuda/cuda_fft.cc:467] Unable to register cuFFT factory: Attempting to register factory for plugin cuFFT when one has already been registered\n",
            "WARNING: All log messages before absl::InitializeLog() is called are written to STDERR\n",
            "E0000 00:00:1761108608.211489    8552 cuda_dnn.cc:8579] Unable to register cuDNN factory: Attempting to register factory for plugin cuDNN when one has already been registered\n",
            "E0000 00:00:1761108608.217675    8552 cuda_blas.cc:1407] Unable to register cuBLAS factory: Attempting to register factory for plugin cuBLAS when one has already been registered\n",
            "W0000 00:00:1761108608.233869    8552 computation_placer.cc:177] computation placer already registered. Please check linkage and avoid linking the same target more than once.\n",
            "W0000 00:00:1761108608.233894    8552 computation_placer.cc:177] computation placer already registered. Please check linkage and avoid linking the same target more than once.\n",
            "W0000 00:00:1761108608.233898    8552 computation_placer.cc:177] computation placer already registered. Please check linkage and avoid linking the same target more than once.\n",
            "W0000 00:00:1761108608.233903    8552 computation_placer.cc:177] computation placer already registered. Please check linkage and avoid linking the same target more than once.\n",
            "\n",
            "NOTE: Using experimental fast data loading logic. To disable, pass\n",
            "    \"--load_fast=false\" and report issues on GitHub. More details:\n",
            "    https://github.com/tensorflow/tensorboard/issues/4784\n",
            "\n",
            "Serving TensorBoard on localhost; to expose to the network, use a proxy or pass --bind_all\n",
            "TensorBoard 2.19.0 at http://localhost:6006/ (Press CTRL+C to quit)\n"
          ]
        }
      ],
      "source": [
        "\n",
        "!mkdir -p logs\n",
        "!tensorboard --logdir logs"
      ]
    },
    {
      "cell_type": "markdown",
      "metadata": {
        "id": "1MypN2jy4IAs"
      },
      "source": [
        "## Training\n",
        "\n",
        "After you implement your model, modify and run this cell to start training.\n",
        "\n",
        "Be sure to pass in the appropriate parameters."
      ]
    },
    {
      "cell_type": "code",
      "execution_count": 1,
      "metadata": {
        "id": "kb9LkNKkp8xt",
        "outputId": "9e984b70-1582-4f89-ac67-bfd742de3f7c",
        "colab": {
          "base_uri": "https://localhost:8080/",
          "height": 412
        }
      },
      "outputs": [
        {
          "output_type": "error",
          "ename": "ModuleNotFoundError",
          "evalue": "No module named 'homework'",
          "traceback": [
            "\u001b[0;31m---------------------------------------------------------------------------\u001b[0m",
            "\u001b[0;31mModuleNotFoundError\u001b[0m                       Traceback (most recent call last)",
            "\u001b[0;32m/tmp/ipython-input-1204173885.py\u001b[0m in \u001b[0;36m<cell line: 0>\u001b[0;34m()\u001b[0m\n\u001b[0;32m----> 1\u001b[0;31m \u001b[0;32mfrom\u001b[0m \u001b[0mhomework\u001b[0m\u001b[0;34m.\u001b[0m\u001b[0mtrain\u001b[0m \u001b[0;32mimport\u001b[0m \u001b[0mtrain\u001b[0m\u001b[0;34m\u001b[0m\u001b[0;34m\u001b[0m\u001b[0m\n\u001b[0m\u001b[1;32m      2\u001b[0m \u001b[0;34m\u001b[0m\u001b[0m\n\u001b[1;32m      3\u001b[0m \u001b[0;34m\u001b[0m\u001b[0m\n\u001b[1;32m      4\u001b[0m train(\n\u001b[1;32m      5\u001b[0m     \u001b[0mmodel_name\u001b[0m\u001b[0;34m=\u001b[0m\u001b[0;34m\"linear\"\u001b[0m\u001b[0;34m,\u001b[0m\u001b[0;34m\u001b[0m\u001b[0;34m\u001b[0m\u001b[0m\n",
            "\u001b[0;31mModuleNotFoundError\u001b[0m: No module named 'homework'",
            "",
            "\u001b[0;31m---------------------------------------------------------------------------\u001b[0;32m\nNOTE: If your import is failing due to a missing package, you can\nmanually install dependencies using either !pip or !apt.\n\nTo view examples of installing some common dependencies, click the\n\"Open Examples\" button below.\n\u001b[0;31m---------------------------------------------------------------------------\u001b[0m\n"
          ],
          "errorDetails": {
            "actions": [
              {
                "action": "open_url",
                "actionText": "Open Examples",
                "url": "/notebooks/snippets/importing_libraries.ipynb"
              }
            ]
          }
        }
      ],
      "source": [
        "from homework.train import train\n",
        "\n",
        "\n",
        "train(\n",
        "    model_name=\"linear\",\n",
        "    num_epoch=10,\n",
        "    lr=1e-3,\n",
        ")"
      ]
    },
    {
      "cell_type": "markdown",
      "metadata": {
        "id": "WODRADDO02Hd"
      },
      "source": [
        "## Grader\n",
        "\n",
        "Run the following cell to grade your homework locally.\n",
        "\n",
        "The Canvas grader uses a different data split for testing,  \n",
        "so there may be a *small* difference between your local grade and your final grade."
      ]
    },
    {
      "cell_type": "code",
      "execution_count": null,
      "metadata": {
        "id": "-ijkV65Bvpaj",
        "outputId": "e359ae89-eada-4428-a9b2-5f483e0b4090"
      },
      "outputs": [
        {
          "name": "stderr",
          "output_type": "stream",
          "text": [
            "Traceback (most recent call last):\n",
            "  File \u001b[35m\"<frozen runpy>\"\u001b[0m, line \u001b[35m198\u001b[0m, in \u001b[35m_run_module_as_main\u001b[0m\n",
            "  File \u001b[35m\"<frozen runpy>\"\u001b[0m, line \u001b[35m88\u001b[0m, in \u001b[35m_run_code\u001b[0m\n",
            "  File \u001b[35m\"c:\\Users\\USER\\git\\online_deep_learning\\homework2\\grader\\__main__.py\"\u001b[0m, line \u001b[35m1\u001b[0m, in \u001b[35m<module>\u001b[0m\n",
            "    \u001b[1;31mfrom . import tests\u001b[0m  # noqa\n",
            "    \u001b[1;31m^^^^^^^^^^^^^^^^^^^\u001b[0m\n",
            "  File \u001b[35m\"c:\\Users\\USER\\git\\online_deep_learning\\homework2\\grader\\tests.py\"\u001b[0m, line \u001b[35m6\u001b[0m, in \u001b[35m<module>\u001b[0m\n",
            "    import torch\n",
            "  File \u001b[35m\"C:\\Users\\USER\\AppData\\Local\\Python\\pythoncore-3.14-64\\Lib\\site-packages\\torch\\__init__.py\"\u001b[0m, line \u001b[35m281\u001b[0m, in \u001b[35m<module>\u001b[0m\n",
            "    \u001b[31m_load_dll_libraries\u001b[0m\u001b[1;31m()\u001b[0m\n",
            "    \u001b[31m~~~~~~~~~~~~~~~~~~~\u001b[0m\u001b[1;31m^^\u001b[0m\n",
            "  File \u001b[35m\"C:\\Users\\USER\\AppData\\Local\\Python\\pythoncore-3.14-64\\Lib\\site-packages\\torch\\__init__.py\"\u001b[0m, line \u001b[35m264\u001b[0m, in \u001b[35m_load_dll_libraries\u001b[0m\n",
            "    raise err\n",
            "\u001b[1;35mOSError\u001b[0m: \u001b[35m[WinError 1114] A dynamic link library (DLL) initialization routine failed. Error loading \"C:\\Users\\USER\\AppData\\Local\\Python\\pythoncore-3.14-64\\Lib\\site-packages\\torch\\lib\\c10.dll\" or one of its dependencies.\u001b[0m\n"
          ]
        }
      ],
      "source": [
        "!python3 -m grader homework -vv --disable_color"
      ]
    },
    {
      "cell_type": "markdown",
      "metadata": {
        "id": "XSy3BQmL-b-j"
      },
      "source": [
        "## Updating Your Changes\n",
        "\n",
        "After you've made progress, modify this cell and commit your changes to git."
      ]
    },
    {
      "cell_type": "code",
      "execution_count": null,
      "metadata": {
        "id": "SupapXWAXxrg"
      },
      "outputs": [],
      "source": [
        "%ls\n",
        "!git status\n",
        "\n",
        "# Be careful not to \"git add *\" since there are datasets and logs\n",
        "!git add homework/*.py\n",
        "!git config --global user.email \"GITHUB_EMAIL\"\n",
        "!git config --global user.name \"GITHUB_USER\"\n",
        "!git commit -m \"update\"\n",
        "!git push origin main"
      ]
    },
    {
      "cell_type": "markdown",
      "metadata": {
        "id": "KgB4SQh1rt2M"
      },
      "source": [
        "## Tuning\n",
        "\n",
        "Rather than changing one parameter and re-running the cell above over and over again,  \n",
        "it is good practice to set up the model/training code so you can \"tune\" your model in a semi-automatic way.\n",
        "\n",
        "This cell tunes over the `num_epochs` your training runs for,  \n",
        "but you could easily modify this to tune over the number of layers, learning rate, etc.\n",
        "\n",
        "After you find a good set of model hyperparameters, be sure to hard-code them into the constructor,  \n",
        "since the grader will use the default constructor to load your model!"
      ]
    },
    {
      "cell_type": "code",
      "execution_count": null,
      "metadata": {
        "id": "DaZhBdBewBt4"
      },
      "outputs": [],
      "source": [
        "from homework.train import train\n",
        "\n",
        "\n",
        "jobs = [\n",
        "    # Run on short schedule (10 epochs)\n",
        "    {\n",
        "        \"model_name\": \"mlp\",\n",
        "        \"num_epoch\": 10,\n",
        "        \"lr\": 1e-3,\n",
        "        \"hidden_dim\": 64,\n",
        "    },\n",
        "    # Train for longer (20 epochs)\n",
        "    {\n",
        "        \"model_name\": \"mlp\",\n",
        "        \"num_epoch\": 20,\n",
        "        \"lr\": 1e-3,\n",
        "        \"hidden_dim\": 128,\n",
        "    },\n",
        "]\n",
        "\n",
        "for params in jobs:\n",
        "    train(**params)"
      ]
    },
    {
      "cell_type": "markdown",
      "metadata": {
        "id": "OxbPtnF55AMU"
      },
      "source": [
        "## Submission\n",
        "\n",
        "Run the following cell to bundle your submission (modify UTID accordingly).\n",
        "\n",
        "After the bundler and grader run, right click and download your bundled `.zip` file from the Colab UI.\n"
      ]
    },
    {
      "cell_type": "code",
      "execution_count": null,
      "metadata": {
        "id": "M07WA1Os4Xxh"
      },
      "outputs": [],
      "source": [
        "!python3 bundle.py homework UTID\n",
        "\n",
        "# optional: run the grader with your bundled homework\n",
        "!python3 -m grader UTID.zip -vv --disable_color"
      ]
    }
  ],
  "metadata": {
    "accelerator": "GPU",
    "colab": {
      "gpuType": "T4",
      "provenance": [],
      "toc_visible": true
    },
    "kernelspec": {
      "display_name": "dlenv",
      "language": "python",
      "name": "python3"
    },
    "language_info": {
      "codemirror_mode": {
        "name": "ipython",
        "version": 3
      },
      "file_extension": ".py",
      "mimetype": "text/x-python",
      "name": "python",
      "nbconvert_exporter": "python",
      "pygments_lexer": "ipython3",
      "version": "3.11.13"
    }
  },
  "nbformat": 4,
  "nbformat_minor": 0
}